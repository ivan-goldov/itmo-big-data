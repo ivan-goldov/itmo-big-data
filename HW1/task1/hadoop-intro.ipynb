{
 "cells": [
  {
   "cell_type": "code",
   "execution_count": 1,
   "id": "f5ac87e2-5b1b-4b15-bc56-66cc340f0afc",
   "metadata": {},
   "outputs": [
    {
     "name": "stdout",
     "output_type": "stream",
     "text": [
      "Writing testing-hadoop.txt\n"
     ]
    }
   ],
   "source": [
    "%%writefile testing-hadoop.txt\n",
    "Lorem ipsum dolor sit amet, consectetur adipiscing elit, sed do eiusmod tempor incididunt ut labore et dolore magna aliqua. \n",
    "Ut enim ad minim veniam, quis nostrud exercitation ullamco laboris nisi ut aliquip ex ea commodo consequat. \n",
    "Duis aute irure dolor in reprehenderit in voluptate velit esse cillum dolore eu fugiat nulla pariatur. \n",
    "Excepteur sint occaecat cupidatat non proident, sunt in culpa qui officia deserunt mollit anim id est laborum."
   ]
  },
  {
   "cell_type": "code",
   "execution_count": 2,
   "id": "f010430c-05d6-4306-9b59-c0554b04d812",
   "metadata": {},
   "outputs": [
    {
     "name": "stdout",
     "output_type": "stream",
     "text": [
      "2023-12-06 01:20:07 WARN  NativeCodeLoader:60 - Unable to load native-hadoop library for your platform... using builtin-java classes where applicable\n"
     ]
    }
   ],
   "source": [
    "!hadoop fs -put ./testing-hadoop.txt /testing-hadoop.txt"
   ]
  },
  {
   "cell_type": "code",
   "execution_count": 4,
   "id": "bfab2e09-46fc-487f-9cba-d1f3696efbf6",
   "metadata": {},
   "outputs": [
    {
     "name": "stdout",
     "output_type": "stream",
     "text": [
      "2023-12-06 01:24:27 WARN  NativeCodeLoader:60 - Unable to load native-hadoop library for your platform... using builtin-java classes where applicable\n",
      "-rw-r--r--   3 root supergroup        449 2023-12-06 01:20 /testing-hadoop.txt\n"
     ]
    }
   ],
   "source": [
    "!hadoop fs -ls /testing-hadoop.txt"
   ]
  },
  {
   "cell_type": "code",
   "execution_count": 5,
   "id": "3bb8775b-34f4-420a-86b8-708129f23d82",
   "metadata": {},
   "outputs": [
    {
     "name": "stdout",
     "output_type": "stream",
     "text": [
      "2023-12-06 01:24:49 WARN  NativeCodeLoader:60 - Unable to load native-hadoop library for your platform... using builtin-java classes where applicable\n",
      "Lorem ipsum dolor sit amet, consectetur adipiscing elit, sed do eiusmod tempor incididunt ut labore et dolore magna aliqua. \n",
      "Ut enim ad minim veniam, quis nostrud exercitation ullamco laboris nisi ut aliquip ex ea commodo consequat. \n",
      "Duis aute irure dolor in reprehenderit in voluptate velit esse cillum dolore eu fugiat nulla pariatur. \n",
      "Excepteur sint occaecat cupidatat non proident, sunt in culpa qui officia deserunt mollit anim id est laborum.\n"
     ]
    }
   ],
   "source": [
    "!hadoop fs -cat /testing-hadoop.txt"
   ]
  },
  {
   "cell_type": "code",
   "execution_count": 1,
   "id": "90743fe0-0fa7-4eba-9722-361240e386ae",
   "metadata": {},
   "outputs": [
    {
     "name": "stdout",
     "output_type": "stream",
     "text": [
      "Number of Maps  = 15\n",
      "Samples per Map = 1800\n",
      "2023-12-04 02:49:50 WARN  NativeCodeLoader:60 - Unable to load native-hadoop library for your platform... using builtin-java classes where applicable\n",
      "Wrote input for Map #0\n",
      "Wrote input for Map #1\n",
      "Wrote input for Map #2\n",
      "Wrote input for Map #3\n",
      "Wrote input for Map #4\n",
      "Wrote input for Map #5\n",
      "Wrote input for Map #6\n",
      "Wrote input for Map #7\n",
      "Wrote input for Map #8\n",
      "Wrote input for Map #9\n",
      "Wrote input for Map #10\n",
      "Wrote input for Map #11\n",
      "Wrote input for Map #12\n",
      "Wrote input for Map #13\n",
      "Wrote input for Map #14\n",
      "Starting Job\n",
      "2023-12-04 02:50:03 INFO  DefaultNoHARMFailoverProxyProvider:64 - Connecting to ResourceManager at resourcemanager/172.21.0.4:8032\n",
      "2023-12-04 02:50:05 INFO  JobResourceUploader:907 - Disabling Erasure Coding for path: /tmp/hadoop-yarn/staging/root/.staging/job_1701646961734_0001\n",
      "2023-12-04 02:50:06 INFO  FileInputFormat:300 - Total input files to process : 15\n",
      "2023-12-04 02:50:06 INFO  JobSubmitter:202 - number of splits:15\n",
      "2023-12-04 02:50:07 INFO  JobSubmitter:298 - Submitting tokens for job: job_1701646961734_0001\n",
      "2023-12-04 02:50:07 INFO  JobSubmitter:299 - Executing with tokens: []\n",
      "2023-12-04 02:50:08 INFO  Configuration:2854 - resource-types.xml not found\n",
      "2023-12-04 02:50:08 INFO  ResourceUtils:476 - Unable to find 'resource-types.xml'.\n",
      "2023-12-04 02:50:09 INFO  YarnClientImpl:338 - Submitted application application_1701646961734_0001\n",
      "2023-12-04 02:50:09 INFO  Job:1682 - The url to track the job: http://resourcemanager:8088/proxy/application_1701646961734_0001/\n",
      "2023-12-04 02:50:09 INFO  Job:1727 - Running job: job_1701646961734_0001\n",
      "2023-12-04 02:50:31 INFO  Job:1748 - Job job_1701646961734_0001 running in uber mode : false\n",
      "2023-12-04 02:50:31 INFO  Job:1755 -  map 0% reduce 0%\n",
      "2023-12-04 02:50:37 INFO  Job:1755 -  map 7% reduce 0%\n",
      "2023-12-04 02:50:38 INFO  Job:1755 -  map 20% reduce 0%\n",
      "2023-12-04 02:50:39 INFO  Job:1755 -  map 27% reduce 0%\n",
      "2023-12-04 02:50:41 INFO  Job:1755 -  map 33% reduce 0%\n",
      "2023-12-04 02:50:43 INFO  Job:1755 -  map 40% reduce 0%\n",
      "2023-12-04 02:50:44 INFO  Job:1755 -  map 47% reduce 0%\n",
      "2023-12-04 02:50:45 INFO  Job:1755 -  map 53% reduce 0%\n",
      "2023-12-04 02:50:46 INFO  Job:1755 -  map 60% reduce 0%\n",
      "2023-12-04 02:50:47 INFO  Job:1755 -  map 67% reduce 0%\n",
      "2023-12-04 02:50:51 INFO  Job:1755 -  map 80% reduce 0%\n",
      "2023-12-04 02:50:54 INFO  Job:1755 -  map 87% reduce 0%\n",
      "2023-12-04 02:50:55 INFO  Job:1755 -  map 93% reduce 0%\n",
      "2023-12-04 02:50:57 INFO  Job:1755 -  map 100% reduce 0%\n",
      "2023-12-04 02:50:59 INFO  Job:1755 -  map 100% reduce 100%\n",
      "2023-12-04 02:51:01 INFO  Job:1766 - Job job_1701646961734_0001 completed successfully\n",
      "2023-12-04 02:51:02 INFO  Job:1773 - Counters: 54\n",
      "\tFile System Counters\n",
      "\t\tFILE: Number of bytes read=336\n",
      "\t\tFILE: Number of bytes written=4461026\n",
      "\t\tFILE: Number of read operations=0\n",
      "\t\tFILE: Number of large read operations=0\n",
      "\t\tFILE: Number of write operations=0\n",
      "\t\tHDFS: Number of bytes read=3875\n",
      "\t\tHDFS: Number of bytes written=215\n",
      "\t\tHDFS: Number of read operations=65\n",
      "\t\tHDFS: Number of large read operations=0\n",
      "\t\tHDFS: Number of write operations=3\n",
      "\t\tHDFS: Number of bytes read erasure-coded=0\n",
      "\tJob Counters \n",
      "\t\tLaunched map tasks=15\n",
      "\t\tLaunched reduce tasks=1\n",
      "\t\tRack-local map tasks=15\n",
      "\t\tTotal time spent by all maps in occupied slots (ms)=71988\n",
      "\t\tTotal time spent by all reduces in occupied slots (ms)=29336\n",
      "\t\tTotal time spent by all map tasks (ms)=35994\n",
      "\t\tTotal time spent by all reduce tasks (ms)=14668\n",
      "\t\tTotal vcore-milliseconds taken by all map tasks=35994\n",
      "\t\tTotal vcore-milliseconds taken by all reduce tasks=14668\n",
      "\t\tTotal megabyte-milliseconds taken by all map tasks=36857856\n",
      "\t\tTotal megabyte-milliseconds taken by all reduce tasks=15020032\n",
      "\tMap-Reduce Framework\n",
      "\t\tMap input records=15\n",
      "\t\tMap output records=30\n",
      "\t\tMap output bytes=270\n",
      "\t\tMap output materialized bytes=420\n",
      "\t\tInput split bytes=2105\n",
      "\t\tCombine input records=0\n",
      "\t\tCombine output records=0\n",
      "\t\tReduce input groups=2\n",
      "\t\tReduce shuffle bytes=420\n",
      "\t\tReduce input records=30\n",
      "\t\tReduce output records=0\n",
      "\t\tSpilled Records=60\n",
      "\t\tShuffled Maps =15\n",
      "\t\tFailed Shuffles=0\n",
      "\t\tMerged Map outputs=15\n",
      "\t\tGC time elapsed (ms)=1269\n",
      "\t\tCPU time spent (ms)=10140\n",
      "\t\tPhysical memory (bytes) snapshot=5516443648\n",
      "\t\tVirtual memory (bytes) snapshot=39707963392\n",
      "\t\tTotal committed heap usage (bytes)=6376914944\n",
      "\t\tPeak Map Physical memory (bytes)=369577984\n",
      "\t\tPeak Map Virtual memory (bytes)=2482356224\n",
      "\t\tPeak Reduce Physical memory (bytes)=255320064\n",
      "\t\tPeak Reduce Virtual memory (bytes)=2496135168\n",
      "\tShuffle Errors\n",
      "\t\tBAD_ID=0\n",
      "\t\tCONNECTION=0\n",
      "\t\tIO_ERROR=0\n",
      "\t\tWRONG_LENGTH=0\n",
      "\t\tWRONG_MAP=0\n",
      "\t\tWRONG_REDUCE=0\n",
      "\tFile Input Format Counters \n",
      "\t\tBytes Read=1770\n",
      "\tFile Output Format Counters \n",
      "\t\tBytes Written=97\n",
      "Job Finished in 58.361 seconds\n",
      "Estimated value of Pi is 3.14162962962962962963\n"
     ]
    }
   ],
   "source": [
    "!hadoop jar /opt/hadoop/share/hadoop/mapreduce/hadoop-mapreduce-examples-3.3.6.jar pi 15 1800"
   ]
  }
 ],
 "metadata": {
  "kernelspec": {
   "display_name": "Python 3 (ipykernel)",
   "language": "python",
   "name": "python3"
  },
  "language_info": {
   "codemirror_mode": {
    "name": "ipython",
    "version": 3
   },
   "file_extension": ".py",
   "mimetype": "text/x-python",
   "name": "python",
   "nbconvert_exporter": "python",
   "pygments_lexer": "ipython3",
   "version": "3.10.12"
  }
 },
 "nbformat": 4,
 "nbformat_minor": 5
}
